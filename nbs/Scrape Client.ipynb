{
 "cells": [
  {
   "cell_type": "code",
   "execution_count": 1,
   "id": "299658c7",
   "metadata": {},
   "outputs": [
    {
     "name": "stdout",
     "output_type": "stream",
     "text": [
      "/Users/cfe/Dev/fastapi-nosql\n"
     ]
    }
   ],
   "source": [
    "cd /Users/cfe/Dev/fastapi-nosql/"
   ]
  },
  {
   "cell_type": "code",
   "execution_count": 2,
   "id": "2d2f4336",
   "metadata": {},
   "outputs": [],
   "source": [
    "from requests_html import HTML\n",
    "from slugify import slugify\n",
    "import pprint\n",
    "import re\n",
    "from app import scraper"
   ]
  },
  {
   "cell_type": "code",
   "execution_count": 3,
   "id": "7979f986",
   "metadata": {},
   "outputs": [],
   "source": [
    "url = \"https://www.amazon.com/Vitamix-E310-Explorian-Professional-Grade-Container/dp/B0758JHZM3/ref=sr_1_3?dchild=1&keywords=vitamix&qid=1632337952&sr=8-3&th=1\""
   ]
  },
  {
   "cell_type": "code",
   "execution_count": 4,
   "id": "48b861ae",
   "metadata": {},
   "outputs": [],
   "source": [
    "s = scraper.Scraper(url=url, endless_scroll=True)"
   ]
  },
  {
   "cell_type": "code",
   "execution_count": 5,
   "id": "8bdbb2f2",
   "metadata": {},
   "outputs": [],
   "source": [
    "dataset = s.scrape()"
   ]
  },
  {
   "cell_type": "code",
   "execution_count": 6,
   "id": "6a669f72",
   "metadata": {},
   "outputs": [
    {
     "data": {
      "text/plain": [
       "{'price_str': '$326.32',\n",
       " 'title_str': 'Vitamix E310 Explorian Blender, Professional-Grade, 48 oz. Container, Black',\n",
       " 'list-price': '$349.95',\n",
       " 'list-price_raw': '$349.95\\n\\nDetails\\n\\n\\n#listPriceLegalMessageText {\\nmargin-left: 5px !important;\\n}\\n#listPriceLegalMessage .a-popover-trigger:hover {\\ntext-decoration: underline !important;\\n}\\n#listPriceLegalMessage .a-icon-popover {\\ndisplay: inline-block !important;\\nmargin-left: 0px !important;\\nmargin-top: 6px !important;\\n}',\n",
       " 'price': '$326.32',\n",
       " 'price_raw': '$326.32\\n\\n\\n\\n\\n\\n&\\n\\n\\n\\n\\nFREE Returns\\n\\n\\n\\n\\n\\nReturn this item for free\\n\\nFree returns are available for the shipping address you chose. You can return the item for any reason in new and unused condition: no shipping charges \\n\\n\\nLearn more about free returns.\\n\\n\\n\\n\\nHow to return the item?\\n\\n\\nGo to your orders and start the return\\nSelect the return method\\nShip it!',\n",
       " 'you-save': '$23.63',\n",
       " 'you-save_raw': '$23.63 (7%)',\n",
       " 'color': 'Black',\n",
       " 'material': 'Tritan',\n",
       " 'brand': 'Vitamix',\n",
       " 'voltage': '120 Volts',\n",
       " 'item-dimensions-lxwxh': '11 x 8 x 18 inches',\n",
       " 'product-dimensions': '11 x 8 x 18 inches',\n",
       " 'item-weight': '11.5 pounds',\n",
       " 'department': 'Kitchen & Dining',\n",
       " 'manufacturer': 'Vitamix',\n",
       " 'asin': 'B0758JHZM3',\n",
       " 'country-of-origin': 'USA',\n",
       " 'item-model-number': 'E310',\n",
       " 'customer-reviews': '/*\\n* Fix for UDP-1061. Average customer reviews has a small extra line on hover\\n* https://omni-grok.amazon.com/xref/src/appgroup/websiteTemplates/retail/SoftlinesDetailPageAssets/udp-intl-lock/src/legacy.css?indexName=WebsiteTemplates#40\\n*/\\n.noUnderline a:hover {\\ntext-decoration: none;\\n}\\n\\n\\n\\n\\n\\n\\n4.7 out of 5 stars\\n\\n\\n\\n\\n\\n\\n\\n\\n4,166 ratings\\n\\n\\n\\nP.when(\\'A\\', \\'ready\\').execute(function(A) {\\nA.declarative(\\'acrLink-click-metrics\\', \\'click\\', { \"allowLinkDefault\" : true }, function(event){\\nif(window.ue) {\\nue.count(\"acrLinkClickCount\", (ue.count(\"acrLinkClickCount\") || 0) + 1);\\n}\\n});\\n});\\n\\n\\nP.when(\\'A\\', \\'cf\\').execute(function(A) {\\nA.declarative(\\'acrStarsLink-click-metrics\\', \\'click\\', { \"allowLinkDefault\" : true },  function(event){\\nif(window.ue) {\\nue.count(\"acrStarsLinkWithPopoverClickCount\", (ue.count(\"acrStarsLinkWithPopoverClickCount\") || 0) + 1);\\n}\\n});\\n});\\n\\n\\n\\n4.7 out of 5 stars',\n",
       " 'best-sellers-rank': '#3,172 in Kitchen & Dining (See Top 100 in Kitchen & Dining)\\n\\n#8 in Blender Replacement Parts\\n\\n#9 in Cocktail Drinkware\\n\\n#22 in Countertop Blenders',\n",
       " 'is-discontinued-by-manufacturer': 'No',\n",
       " 'date-first-available': 'August 31, 2017'}"
      ]
     },
     "execution_count": 6,
     "metadata": {},
     "output_type": "execute_result"
    }
   ],
   "source": [
    "dataset"
   ]
  },
  {
   "cell_type": "code",
   "execution_count": null,
   "id": "c8588178",
   "metadata": {},
   "outputs": [],
   "source": []
  }
 ],
 "metadata": {
  "kernelspec": {
   "display_name": "Python 3 (ipykernel)",
   "language": "python",
   "name": "python3"
  },
  "language_info": {
   "codemirror_mode": {
    "name": "ipython",
    "version": 3
   },
   "file_extension": ".py",
   "mimetype": "text/x-python",
   "name": "python",
   "nbconvert_exporter": "python",
   "pygments_lexer": "ipython3",
   "version": "3.9.7"
  }
 },
 "nbformat": 4,
 "nbformat_minor": 5
}
