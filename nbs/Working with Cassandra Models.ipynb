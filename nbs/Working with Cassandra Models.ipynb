{
 "cells": [
  {
   "cell_type": "code",
   "execution_count": 1,
   "id": "d636268a",
   "metadata": {},
   "outputs": [
    {
     "name": "stdout",
     "output_type": "stream",
     "text": [
      "/Users/cfe/Dev/fastapi-nosql\n"
     ]
    }
   ],
   "source": [
    "cd /Users/cfe/Dev/fastapi-nosql/"
   ]
  },
  {
   "cell_type": "code",
   "execution_count": 2,
   "id": "17ecc158",
   "metadata": {},
   "outputs": [],
   "source": [
    "from app import db, crud, models"
   ]
  },
  {
   "cell_type": "code",
   "execution_count": 3,
   "id": "f6419ebc",
   "metadata": {},
   "outputs": [],
   "source": [
    "session = db.get_session()"
   ]
  },
  {
   "cell_type": "code",
   "execution_count": 4,
   "id": "86b2ddcc",
   "metadata": {},
   "outputs": [
    {
     "data": {
      "text/plain": [
       "{'asin': 'TESTING123D', 'title': 'Mark 1adsf'}"
      ]
     },
     "execution_count": 4,
     "metadata": {},
     "output_type": "execute_result"
    }
   ],
   "source": [
    "data = models.data\n",
    "data"
   ]
  },
  {
   "cell_type": "code",
   "execution_count": 5,
   "id": "e876c052",
   "metadata": {},
   "outputs": [
    {
     "data": {
      "text/plain": [
       "(Product(asin='TESTING123D', title='Mark 1adsf', price_str='-100'),\n",
       " ProductScrapeEvent(uuid=UUID('cae2b4bc-1b28-11ec-af24-acde48001122'), asin='TESTING123D', title='Mark 1adsf', price_str='-100'))"
      ]
     },
     "execution_count": 5,
     "metadata": {},
     "output_type": "execute_result"
    }
   ],
   "source": [
    "crud.add_scrape_event(data, fresh=True)"
   ]
  },
  {
   "cell_type": "code",
   "execution_count": null,
   "id": "7d012be0",
   "metadata": {},
   "outputs": [],
   "source": []
  },
  {
   "cell_type": "code",
   "execution_count": 6,
   "id": "840b0b06",
   "metadata": {},
   "outputs": [
    {
     "name": "stdout",
     "output_type": "stream",
     "text": [
      "testing123\n",
      "TESTING123\n",
      "TESTING123D\n",
      "AMZNIDNUMBER\n",
      "AMZNIDNUMBERd\n"
     ]
    }
   ],
   "source": [
    "asin = \"TESTING123D\"\n",
    "for obj in models.Product.objects().all():\n",
    "    print(obj.asin)"
   ]
  },
  {
   "cell_type": "code",
   "execution_count": null,
   "id": "14c16044",
   "metadata": {},
   "outputs": [],
   "source": []
  },
  {
   "cell_type": "code",
   "execution_count": 7,
   "id": "bbe48b4b",
   "metadata": {},
   "outputs": [
    {
     "name": "stdout",
     "output_type": "stream",
     "text": [
      "Scrape events for TESTING123D\n",
      "0 TESTING123D 1dd0f13a-1b1e-11ec-aece-acde48001122\n",
      "1 TESTING123D 3a317dda-1b1f-11ec-82a6-acde48001122\n",
      "2 TESTING123D 3a8bc7e0-1b1f-11ec-82a6-acde48001122\n",
      "3 TESTING123D 1e9a627c-1b1e-11ec-aece-acde48001122\n",
      "4 TESTING123D c9dc0ea4-1b25-11ec-8fc2-acde48001122\n",
      "5 TESTING123D 1cd93df0-1b1e-11ec-aece-acde48001122\n",
      "6 TESTING123D da5bf4fe-1b1d-11ec-aece-acde48001122\n",
      "7 TESTING123D d96fa810-1b1d-11ec-aece-acde48001122\n",
      "8 TESTING123D 440aba74-1b1a-11ec-bc12-acde48001122\n",
      "9 TESTING123D 1f0c73bc-1b1e-11ec-aece-acde48001122\n",
      "10 TESTING123D ce9194ea-1b1c-11ec-80e9-acde48001122\n",
      "11 TESTING123D 430f11ec-1b1a-11ec-bc12-acde48001122\n",
      "12 TESTING123D 4540f0ca-1b1a-11ec-bc12-acde48001122\n",
      "13 TESTING123D edf5f930-1b1b-11ec-bc38-acde48001122\n",
      "14 TESTING123D 44e0c506-1b1a-11ec-bc12-acde48001122\n",
      "15 TESTING123D 1c673764-1b1e-11ec-aece-acde48001122\n",
      "16 TESTING123D a31ffe6e-1b1c-11ec-8641-acde48001122\n",
      "17 TESTING123D cae2b4bc-1b28-11ec-af24-acde48001122\n",
      "18 TESTING123D 1e2f0964-1b1e-11ec-aece-acde48001122\n",
      "19 TESTING123D 3adf6828-1b1f-11ec-82a6-acde48001122\n",
      "20 TESTING123D cf6254ae-1b1c-11ec-80e9-acde48001122\n",
      "21 TESTING123D 45f3b6a6-1b1a-11ec-bc12-acde48001122\n",
      "22 TESTING123D 39736296-1b1f-11ec-82a6-acde48001122\n",
      "23 TESTING123D 447d974c-1b1a-11ec-bc12-acde48001122\n",
      "24 TESTING123D d08c6d92-1b1c-11ec-80e9-acde48001122\n",
      "25 TESTING123D 43a03c26-1b1a-11ec-bc12-acde48001122\n",
      "26 TESTING123D 1d56ed86-1b1e-11ec-aece-acde48001122\n",
      "27 TESTING123D 8b3f3e26-1b1d-11ec-9eb5-acde48001122\n",
      "28 TESTING123D 1c71435c-1b1f-11ec-82a6-acde48001122\n",
      "29 TESTING123D 39d5b748-1b1f-11ec-82a6-acde48001122\n",
      "30 TESTING123D 3b4b9ffc-1b1f-11ec-82a6-acde48001122\n",
      "31 TESTING123D cc27623e-1b1c-11ec-80e9-acde48001122\n",
      "32 TESTING123D 459885a6-1b1a-11ec-bc12-acde48001122\n",
      "33 TESTING123D 4227d430-1b1a-11ec-bc12-acde48001122\n",
      "34 TESTING123D 48042e58-1b1a-11ec-bc12-acde48001122\n",
      "35 TESTING123D d6110a2e-1b1d-11ec-aece-acde48001122\n"
     ]
    }
   ],
   "source": [
    "if asin is not None:\n",
    "    print(f\"Scrape events for {asin}\")\n",
    "    q = models.ProductScrapeEvent.objects.filter(asin=asin)\n",
    "    for i, obj in enumerate(q):\n",
    "        print(i, obj.asin, obj.uuid)"
   ]
  },
  {
   "cell_type": "code",
   "execution_count": 8,
   "id": "e7887ecb",
   "metadata": {},
   "outputs": [
    {
     "name": "stdout",
     "output_type": "stream",
     "text": [
      "SELECT * FROM scraper_app.product LIMIT 10000\n",
      "{'asin': 'testing123', 'price_str': '$23.23', 'title': 'hello worlder'}\n",
      "{'asin': 'TESTING123', 'price_str': '-100', 'title': 'Mark 1adsf'}\n",
      "{'asin': 'TESTING123D', 'price_str': '-100', 'title': 'Mark 1adsf'}\n",
      "{'asin': 'AMZNIDNUMBER', 'price_str': None, 'title': 'Mark 1'}\n",
      "{'asin': 'AMZNIDNUMBERd', 'price_str': None, 'title': 'Mark 1adsf'}\n"
     ]
    }
   ],
   "source": [
    "q = models.Product.objects().all()\n",
    "cquery = str(q._select_query())\n",
    "print(cquery)\n",
    "for row in session.execute(cquery):\n",
    "    print(row)"
   ]
  },
  {
   "cell_type": "code",
   "execution_count": null,
   "id": "875cd4fa",
   "metadata": {},
   "outputs": [],
   "source": []
  }
 ],
 "metadata": {
  "kernelspec": {
   "display_name": "Python 3 (ipykernel)",
   "language": "python",
   "name": "python3"
  },
  "language_info": {
   "codemirror_mode": {
    "name": "ipython",
    "version": 3
   },
   "file_extension": ".py",
   "mimetype": "text/x-python",
   "name": "python",
   "nbconvert_exporter": "python",
   "pygments_lexer": "ipython3",
   "version": "3.9.7"
  }
 },
 "nbformat": 4,
 "nbformat_minor": 5
}
