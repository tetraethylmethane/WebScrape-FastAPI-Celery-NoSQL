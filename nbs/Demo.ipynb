{
 "cells": [
  {
   "cell_type": "code",
   "execution_count": 1,
   "id": "ba04045c",
   "metadata": {},
   "outputs": [
    {
     "name": "stdout",
     "output_type": "stream",
     "text": [
      "/Users/cfe/Dev/fastapi-nosql\n"
     ]
    }
   ],
   "source": [
    "cd /Users/cfe/Dev/fastapi-nosql/"
   ]
  },
  {
   "cell_type": "code",
   "execution_count": 2,
   "id": "f8850c4a",
   "metadata": {},
   "outputs": [],
   "source": [
    "from app import (\n",
    "    db,\n",
    "    crud,\n",
    "    scraper,\n",
    "    schema,\n",
    ")\n"
   ]
  },
  {
   "cell_type": "code",
   "execution_count": 3,
   "id": "cd0de100",
   "metadata": {},
   "outputs": [],
   "source": [
    "asin = \"B06Y5ZCFHX\""
   ]
  },
  {
   "cell_type": "code",
   "execution_count": 4,
   "id": "d5c599bb",
   "metadata": {},
   "outputs": [],
   "source": [
    "s = scraper.Scraper(asin=asin, endless_scroll=True)"
   ]
  },
  {
   "cell_type": "code",
   "execution_count": 5,
   "id": "b9646a41",
   "metadata": {},
   "outputs": [],
   "source": [
    "dataset = s.scrape()"
   ]
  },
  {
   "cell_type": "code",
   "execution_count": 6,
   "id": "06dd32d5",
   "metadata": {},
   "outputs": [
    {
     "data": {
      "text/plain": [
       "{'price_str': '$996.95',\n",
       " 'title_str': 'Nikon D7500 DX-Format Digital SLR Body',\n",
       " 'title': 'Nikon D7500 DX-Format Digital SLR Body',\n",
       " 'ships_fromships_from': 'Amazon.comAmazon.com',\n",
       " 'sold_bysold_by': 'Amazon.comAmazon.com',\n",
       " 'price': '$996.95',\n",
       " 'price_raw': '$996.95\\n\\n\\n\\n\\n\\n&\\n\\n\\n\\n\\nFREE Returns\\n\\n\\n\\n\\n\\nReturn this item for free\\n\\nFree returns are available for the shipping address you chose. You can return the item for any reason in new and unused condition: no shipping charges \\n\\n\\nLearn more about free returns.\\n\\n\\n\\n\\nHow to return the item?\\n\\n\\nGo to your orders and start the return\\nSelect the return method\\nShip it!',\n",
       " 'model_name': 'Nikon D7500',\n",
       " 'brand': 'Nikon',\n",
       " 'form_factor': 'SLR',\n",
       " 'special_feature': 'Wireless',\n",
       " 'color': 'Black',\n",
       " 'product_dimensions': '5.98 x 7.99 x 7.99 inches',\n",
       " 'item_weight': '1.66 pounds',\n",
       " 'asin': 'B06Y5ZCFHX',\n",
       " 'item_model_number': '1581',\n",
       " 'batteries': '1 Lithium ion batteries required. (included)',\n",
       " 'customer_reviews': '/*\\n* Fix for UDP-1061. Average customer reviews has a small extra line on hover\\n* https://omni-grok.amazon.com/xref/src/appgroup/websiteTemplates/retail/SoftlinesDetailPageAssets/udp-intl-lock/src/legacy.css?indexName=WebsiteTemplates#40\\n*/\\n.noUnderline a:hover {\\ntext-decoration: none;\\n}\\n\\n\\n\\n\\n\\n\\n4.8 out of 5 stars\\n\\n\\n\\n\\n\\n\\n\\n\\n869 ratings\\n\\n\\n\\nP.when(\\'A\\', \\'ready\\').execute(function(A) {\\nA.declarative(\\'acrLink-click-metrics\\', \\'click\\', { \"allowLinkDefault\" : true }, function(event){\\nif(window.ue) {\\nue.count(\"acrLinkClickCount\", (ue.count(\"acrLinkClickCount\") || 0) + 1);\\n}\\n});\\n});\\n\\n\\nP.when(\\'A\\', \\'cf\\').execute(function(A) {\\nA.declarative(\\'acrStarsLink-click-metrics\\', \\'click\\', { \"allowLinkDefault\" : true },  function(event){\\nif(window.ue) {\\nue.count(\"acrStarsLinkWithPopoverClickCount\", (ue.count(\"acrStarsLinkWithPopoverClickCount\") || 0) + 1);\\n}\\n});\\n});\\n\\n\\n\\n4.8 out of 5 stars',\n",
       " 'best_sellers_rank': '#7,829 in Electronics (See Top 100 in Electronics)\\n\\n#11 in DSLR Cameras',\n",
       " 'is_discontinued_by_manufacturer': 'No',\n",
       " 'date_first_available': 'April 12, 2016',\n",
       " 'manufacturer': 'Nikon',\n",
       " 'country_of_origin': 'Thailand'}"
      ]
     },
     "execution_count": 6,
     "metadata": {},
     "output_type": "execute_result"
    }
   ],
   "source": [
    "dataset"
   ]
  },
  {
   "cell_type": "code",
   "execution_count": 7,
   "id": "91086b14",
   "metadata": {},
   "outputs": [],
   "source": [
    "validated_data = schema.ProductListSchema(**dataset)"
   ]
  },
  {
   "cell_type": "code",
   "execution_count": 8,
   "id": "d7a98303",
   "metadata": {},
   "outputs": [
    {
     "data": {
      "text/plain": [
       "{'asin': 'B06Y5ZCFHX',\n",
       " 'title': 'Nikon D7500 DX-Format Digital SLR Body',\n",
       " 'price_str': '$996.95',\n",
       " 'brand': 'Nikon',\n",
       " 'country_of_origin': 'Thailand'}"
      ]
     },
     "execution_count": 8,
     "metadata": {},
     "output_type": "execute_result"
    }
   ],
   "source": [
    "validated_data.dict()"
   ]
  },
  {
   "cell_type": "code",
   "execution_count": 9,
   "id": "7cb7f00e",
   "metadata": {},
   "outputs": [
    {
     "data": {
      "text/plain": [
       "(Product(asin='B06Y5ZCFHX', title='Nikon D7500 DX-Format Digital SLR Body', brand='Nikon', price_str='$996.95', country_of_origin='Thailand'),\n",
       " ProductScrapeEvent(uuid=UUID('a8ecc1c4-1c16-11ec-8764-acde48001122'), asin='B06Y5ZCFHX', title='Nikon D7500 DX-Format Digital SLR Body', brand='Nikon', country_of_origin='Thailand', price_str='$996.95'))"
      ]
     },
     "execution_count": 9,
     "metadata": {},
     "output_type": "execute_result"
    }
   ],
   "source": [
    "session = db.get_session()\n",
    "crud.add_scrape_event(validated_data.dict())"
   ]
  },
  {
   "cell_type": "code",
   "execution_count": null,
   "id": "dbdeaff6",
   "metadata": {},
   "outputs": [],
   "source": []
  }
 ],
 "metadata": {
  "kernelspec": {
   "display_name": "Python 3 (ipykernel)",
   "language": "python",
   "name": "python3"
  },
  "language_info": {
   "codemirror_mode": {
    "name": "ipython",
    "version": 3
   },
   "file_extension": ".py",
   "mimetype": "text/x-python",
   "name": "python",
   "nbconvert_exporter": "python",
   "pygments_lexer": "ipython3",
   "version": "3.9.7"
  }
 },
 "nbformat": 4,
 "nbformat_minor": 5
}
