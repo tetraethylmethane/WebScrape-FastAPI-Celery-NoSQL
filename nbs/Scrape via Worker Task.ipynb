{
 "cells": [
  {
   "cell_type": "code",
   "execution_count": 1,
   "id": "299658c7",
   "metadata": {},
   "outputs": [
    {
     "name": "stdout",
     "output_type": "stream",
     "text": [
      "/Users/cfe/Dev/fastapi-nosql\n"
     ]
    }
   ],
   "source": [
    "cd /Users/cfe/Dev/fastapi-nosql/"
   ]
  },
  {
   "cell_type": "code",
   "execution_count": 2,
   "id": "2d2f4336",
   "metadata": {},
   "outputs": [],
   "source": [
    "from requests_html import HTML\n",
    "from slugify import slugify\n",
    "import pprint\n",
    "import re\n",
    "from app import worker, db"
   ]
  },
  {
   "cell_type": "code",
   "execution_count": 3,
   "id": "e572e9ef",
   "metadata": {},
   "outputs": [],
   "source": [
    "session = db.get_session()"
   ]
  },
  {
   "cell_type": "code",
   "execution_count": 7,
   "id": "7979f986",
   "metadata": {},
   "outputs": [
    {
     "data": {
      "text/plain": [
       "<AsyncResult: a70e24db-1637-4e08-bc5b-271c6ad82cd5>"
      ]
     },
     "execution_count": 7,
     "metadata": {},
     "output_type": "execute_result"
    }
   ],
   "source": [
    "asin = \"B0758JHZM3\"\n",
    "worker.scrape_asin(asin)"
   ]
  },
  {
   "cell_type": "code",
   "execution_count": 5,
   "id": "47d3dafd",
   "metadata": {},
   "outputs": [
    {
     "data": {
      "text/plain": [
       "<AsyncResult: a9bca266-8cbb-442a-ac65-6a15bab08556>"
      ]
     },
     "execution_count": 5,
     "metadata": {},
     "output_type": "execute_result"
    }
   ],
   "source": [
    "asin = \"B0758JHZMdasdfasdfads3\"\n",
    "worker.scrape_asin.delay(asin)"
   ]
  },
  {
   "cell_type": "code",
   "execution_count": 6,
   "id": "adcf540b",
   "metadata": {},
   "outputs": [],
   "source": [
    "asin = \"B0758JHZMdasdfasdfads3\"\n",
    "worker.scrape_asin(asin)"
   ]
  },
  {
   "cell_type": "code",
   "execution_count": null,
   "id": "f5b6d0df",
   "metadata": {},
   "outputs": [],
   "source": []
  }
 ],
 "metadata": {
  "kernelspec": {
   "display_name": "Python 3 (ipykernel)",
   "language": "python",
   "name": "python3"
  },
  "language_info": {
   "codemirror_mode": {
    "name": "ipython",
    "version": 3
   },
   "file_extension": ".py",
   "mimetype": "text/x-python",
   "name": "python",
   "nbconvert_exporter": "python",
   "pygments_lexer": "ipython3",
   "version": "3.9.7"
  }
 },
 "nbformat": 4,
 "nbformat_minor": 5
}
