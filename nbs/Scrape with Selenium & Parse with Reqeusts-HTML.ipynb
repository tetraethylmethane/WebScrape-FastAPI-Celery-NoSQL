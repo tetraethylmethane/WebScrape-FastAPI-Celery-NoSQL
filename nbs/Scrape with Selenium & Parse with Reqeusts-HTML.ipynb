{
 "cells": [
  {
   "cell_type": "code",
   "execution_count": 4,
   "id": "299658c7",
   "metadata": {},
   "outputs": [
    {
     "name": "stdout",
     "output_type": "stream",
     "text": [
      "/Users/cfe/Dev/fastapi-nosql\n"
     ]
    }
   ],
   "source": [
    "cd /Users/cfe/Dev/fastapi-nosql/"
   ]
  },
  {
   "cell_type": "code",
   "execution_count": 22,
   "id": "2d2f4336",
   "metadata": {},
   "outputs": [],
   "source": [
    "from requests_html import HTML\n",
    "from slugify import slugify\n",
    "import pprint\n",
    "import re\n",
    "from app import scraper"
   ]
  },
  {
   "cell_type": "code",
   "execution_count": 6,
   "id": "7979f986",
   "metadata": {},
   "outputs": [],
   "source": [
    "url = \"https://www.amazon.com/Vitamix-E310-Explorian-Professional-Grade-Container/dp/B0758JHZM3/ref=sr_1_3?dchild=1&keywords=vitamix&qid=1632337952&sr=8-3&th=1\""
   ]
  },
  {
   "cell_type": "code",
   "execution_count": 7,
   "id": "48b861ae",
   "metadata": {},
   "outputs": [],
   "source": [
    "s = scraper.Scraper(url=url, endless_scroll=True)"
   ]
  },
  {
   "cell_type": "code",
   "execution_count": 8,
   "id": "8bdbb2f2",
   "metadata": {},
   "outputs": [],
   "source": [
    "html_str = s.get()"
   ]
  },
  {
   "cell_type": "code",
   "execution_count": 9,
   "id": "a1f43632",
   "metadata": {},
   "outputs": [],
   "source": [
    "html_obj = HTML(html=html_str)"
   ]
  },
  {
   "cell_type": "code",
   "execution_count": 16,
   "id": "651e99c9",
   "metadata": {},
   "outputs": [],
   "source": [
    "def extract_element_text(html_obj, element_id):\n",
    "    el =  html_obj.find(element_id, first=True)\n",
    "    if not el:\n",
    "        return ''\n",
    "    return el.text"
   ]
  },
  {
   "cell_type": "code",
   "execution_count": 17,
   "id": "0a3776dc",
   "metadata": {},
   "outputs": [
    {
     "data": {
      "text/plain": [
       "'$326.32'"
      ]
     },
     "execution_count": 17,
     "metadata": {},
     "output_type": "execute_result"
    }
   ],
   "source": [
    "price_str = extract_element_text(html_obj, '#priceblock_ourprice')\n",
    "price_str"
   ]
  },
  {
   "cell_type": "code",
   "execution_count": 18,
   "id": "45f5d4e1",
   "metadata": {},
   "outputs": [
    {
     "data": {
      "text/plain": [
       "'Vitamix E310 Explorian Blender, Professional-Grade, 48 oz. Container, Black'"
      ]
     },
     "execution_count": 18,
     "metadata": {},
     "output_type": "execute_result"
    }
   ],
   "source": [
    "title_str = extract_element_text(html_obj, \"#productTitle\")\n",
    "title_str"
   ]
  },
  {
   "cell_type": "code",
   "execution_count": 19,
   "id": "f10f46c1",
   "metadata": {},
   "outputs": [],
   "source": [
    "def extract_tables(html_obj):\n",
    "    return html_obj.find(\"table\")"
   ]
  },
  {
   "cell_type": "code",
   "execution_count": 21,
   "id": "25871950",
   "metadata": {},
   "outputs": [
    {
     "data": {
      "text/plain": [
       "[<Element 'table' class=('a-lineitem',)>,\n",
       " <Element 'table' class=('a-normal', 'a-spacing-micro')>,\n",
       " <Element 'table' id='HLCXComparisonTable' class=('a-bordered', 'a-horizontal-stripes', 'a-spacing-none', 'a-size-base', 'comparison_table')>,\n",
       " <Element 'table' id='productDetails_detailBullets_sections1' class=('a-keyvalue', 'prodDetTable') role='presentation'>,\n",
       " <Element 'table' id='productDetails_feedback_sections' class=('a-keyvalue', 'prodDetTable') role='presentation'>,\n",
       " <Element 'table' id='histogramTable' class=('a-normal', 'a-spacing-none') role='presentation'>,\n",
       " <Element 'table' id='histogramTable' class=('a-normal', 'a-align-center', 'a-spacing-base')>,\n",
       " <Element 'table' class=('navFooterMoreOnAmazon',) cellspacing='0'>]"
      ]
     },
     "execution_count": 21,
     "metadata": {},
     "output_type": "execute_result"
    }
   ],
   "source": [
    "tables = extract_tables(html_obj)\n",
    "tables"
   ]
  },
  {
   "cell_type": "code",
   "execution_count": 26,
   "id": "12971556",
   "metadata": {},
   "outputs": [],
   "source": [
    "def extract_price_from_string(value: str, regex=r\"[\\$]{1}[\\d,]+\\.?\\d{0,2}\"):\n",
    "    x = re.findall(regex, value)\n",
    "    val = None\n",
    "    if len(x) == 1:\n",
    "        val = x[0]\n",
    "    return val"
   ]
  },
  {
   "cell_type": "code",
   "execution_count": 27,
   "id": "8f493a2a",
   "metadata": {},
   "outputs": [],
   "source": [
    "def extract_dataset(tables):\n",
    "    dataset = {}\n",
    "    for table in tables:\n",
    "        for tbody in table.element.getchildren():\n",
    "            for tr in tbody.getchildren():\n",
    "                row = []\n",
    "                for col in tr.getchildren():\n",
    "                    content = \"\"\n",
    "                    try:\n",
    "                        content = col.text_content()\n",
    "                    except:\n",
    "                        pass\n",
    "                    if content != \"\":\n",
    "                        _content = content.strip()\n",
    "                        row.append(_content)\n",
    "                if len(row) != 2:\n",
    "                    continue\n",
    "                key = row[0]\n",
    "                value = row[1]\n",
    "                \n",
    "                # print(key, value)\n",
    "                data = {}\n",
    "                key = slugify(key)\n",
    "                if key in dataset:\n",
    "                    continue\n",
    "                else:\n",
    "                    if \"$\" in value:\n",
    "                        new_key = key\n",
    "                        old_key = f'{key}_raw'\n",
    "                        new_value = extract_price_from_string(value)\n",
    "                        old_value = value\n",
    "                        dataset[new_key] = new_value\n",
    "                        dataset[old_key] = old_value\n",
    "                    else:\n",
    "                        dataset[key] = value\n",
    "    return dataset\n"
   ]
  },
  {
   "cell_type": "code",
   "execution_count": 28,
   "id": "35c6c18b",
   "metadata": {},
   "outputs": [
    {
     "name": "stdout",
     "output_type": "stream",
     "text": [
      "{'asin': 'B0758JHZM3',\n",
      " 'best-sellers-rank': '#3,172 in Kitchen & Dining (See Top 100 in Kitchen & '\n",
      "                      'Dining)\\n'\n",
      "                      '\\n'\n",
      "                      '#8 in Blender Replacement Parts\\n'\n",
      "                      '\\n'\n",
      "                      '#9 in Cocktail Drinkware\\n'\n",
      "                      '\\n'\n",
      "                      '#22 in Countertop Blenders',\n",
      " 'brand': 'Vitamix',\n",
      " 'color': 'Black',\n",
      " 'country-of-origin': 'USA',\n",
      " 'customer-reviews': '/*\\n'\n",
      "                     '* Fix for UDP-1061. Average customer reviews has a small '\n",
      "                     'extra line on hover\\n'\n",
      "                     '* '\n",
      "                     'https://omni-grok.amazon.com/xref/src/appgroup/websiteTemplates/retail/SoftlinesDetailPageAssets/udp-intl-lock/src/legacy.css?indexName=WebsiteTemplates#40\\n'\n",
      "                     '*/\\n'\n",
      "                     '.noUnderline a:hover {\\n'\n",
      "                     'text-decoration: none;\\n'\n",
      "                     '}\\n'\n",
      "                     '\\n'\n",
      "                     '\\n'\n",
      "                     '\\n'\n",
      "                     '\\n'\n",
      "                     '\\n'\n",
      "                     '\\n'\n",
      "                     '4.7 out of 5 stars\\n'\n",
      "                     '\\n'\n",
      "                     '\\n'\n",
      "                     '\\n'\n",
      "                     '\\n'\n",
      "                     '\\n'\n",
      "                     '\\n'\n",
      "                     '\\n'\n",
      "                     '\\n'\n",
      "                     '4,166 ratings\\n'\n",
      "                     '\\n'\n",
      "                     '\\n'\n",
      "                     '\\n'\n",
      "                     \"P.when('A', 'ready').execute(function(A) {\\n\"\n",
      "                     \"A.declarative('acrLink-click-metrics', 'click', { \"\n",
      "                     '\"allowLinkDefault\" : true }, function(event){\\n'\n",
      "                     'if(window.ue) {\\n'\n",
      "                     'ue.count(\"acrLinkClickCount\", '\n",
      "                     '(ue.count(\"acrLinkClickCount\") || 0) + 1);\\n'\n",
      "                     '}\\n'\n",
      "                     '});\\n'\n",
      "                     '});\\n'\n",
      "                     '\\n'\n",
      "                     '\\n'\n",
      "                     \"P.when('A', 'cf').execute(function(A) {\\n\"\n",
      "                     \"A.declarative('acrStarsLink-click-metrics', 'click', { \"\n",
      "                     '\"allowLinkDefault\" : true },  function(event){\\n'\n",
      "                     'if(window.ue) {\\n'\n",
      "                     'ue.count(\"acrStarsLinkWithPopoverClickCount\", '\n",
      "                     '(ue.count(\"acrStarsLinkWithPopoverClickCount\") || 0) + '\n",
      "                     '1);\\n'\n",
      "                     '}\\n'\n",
      "                     '});\\n'\n",
      "                     '});\\n'\n",
      "                     '\\n'\n",
      "                     '\\n'\n",
      "                     '\\n'\n",
      "                     '4.7 out of 5 stars',\n",
      " 'date-first-available': 'August 31, 2017',\n",
      " 'department': 'Kitchen & Dining',\n",
      " 'is-discontinued-by-manufacturer': 'No',\n",
      " 'item-dimensions-lxwxh': '11 x 8 x 18 inches',\n",
      " 'item-model-number': 'E310',\n",
      " 'item-weight': '11.5 pounds',\n",
      " 'list-price': '$349.95',\n",
      " 'list-price_raw': '$349.95\\n'\n",
      "                   '\\n'\n",
      "                   'Details\\n'\n",
      "                   '\\n'\n",
      "                   '\\n'\n",
      "                   '#listPriceLegalMessageText {\\n'\n",
      "                   'margin-left: 5px !important;\\n'\n",
      "                   '}\\n'\n",
      "                   '#listPriceLegalMessage .a-popover-trigger:hover {\\n'\n",
      "                   'text-decoration: underline !important;\\n'\n",
      "                   '}\\n'\n",
      "                   '#listPriceLegalMessage .a-icon-popover {\\n'\n",
      "                   'display: inline-block !important;\\n'\n",
      "                   'margin-left: 0px !important;\\n'\n",
      "                   'margin-top: 6px !important;\\n'\n",
      "                   '}',\n",
      " 'manufacturer': 'Vitamix',\n",
      " 'material': 'Tritan',\n",
      " 'price': '$326.32',\n",
      " 'price_raw': '$326.32\\n'\n",
      "              '\\n'\n",
      "              '\\n'\n",
      "              '\\n'\n",
      "              '\\n'\n",
      "              '\\n'\n",
      "              '&\\n'\n",
      "              '\\n'\n",
      "              '\\n'\n",
      "              '\\n'\n",
      "              '\\n'\n",
      "              'FREE Returns\\n'\n",
      "              '\\n'\n",
      "              '\\n'\n",
      "              '\\n'\n",
      "              '\\n'\n",
      "              '\\n'\n",
      "              'Return this item for free\\n'\n",
      "              '\\n'\n",
      "              'Free returns are available for the shipping address you chose. '\n",
      "              'You can return the item for any reason in new and unused '\n",
      "              'condition: no shipping charges \\n'\n",
      "              '\\n'\n",
      "              '\\n'\n",
      "              'Learn more about free returns.\\n'\n",
      "              '\\n'\n",
      "              '\\n'\n",
      "              '\\n'\n",
      "              '\\n'\n",
      "              'How to return the item?\\n'\n",
      "              '\\n'\n",
      "              '\\n'\n",
      "              'Go to your orders and start the return\\n'\n",
      "              'Select the return method\\n'\n",
      "              'Ship it!',\n",
      " 'product-dimensions': '11 x 8 x 18 inches',\n",
      " 'voltage': '120 Volts',\n",
      " 'you-save': '$23.63',\n",
      " 'you-save_raw': '$23.63 (7%)'}\n"
     ]
    }
   ],
   "source": [
    "dataset = extract_dataset(tables)\n",
    "pprint.pprint(dataset)"
   ]
  },
  {
   "cell_type": "code",
   "execution_count": null,
   "id": "c1db77ac",
   "metadata": {},
   "outputs": [],
   "source": []
  }
 ],
 "metadata": {
  "kernelspec": {
   "display_name": "Python 3 (ipykernel)",
   "language": "python",
   "name": "python3"
  },
  "language_info": {
   "codemirror_mode": {
    "name": "ipython",
    "version": 3
   },
   "file_extension": ".py",
   "mimetype": "text/x-python",
   "name": "python",
   "nbconvert_exporter": "python",
   "pygments_lexer": "ipython3",
   "version": "3.9.7"
  }
 },
 "nbformat": 4,
 "nbformat_minor": 5
}
