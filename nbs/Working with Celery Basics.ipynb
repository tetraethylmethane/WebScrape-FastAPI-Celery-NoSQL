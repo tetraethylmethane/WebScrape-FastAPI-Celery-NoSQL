{
 "cells": [
  {
   "cell_type": "code",
   "execution_count": 1,
   "id": "d636268a",
   "metadata": {},
   "outputs": [
    {
     "name": "stdout",
     "output_type": "stream",
     "text": [
      "/Users/cfe/Dev/fastapi-nosql\n"
     ]
    }
   ],
   "source": [
    "cd /Users/cfe/Dev/fastapi-nosql/"
   ]
  },
  {
   "cell_type": "code",
   "execution_count": 2,
   "id": "17ecc158",
   "metadata": {},
   "outputs": [],
   "source": [
    "from app.worker import random_task"
   ]
  },
  {
   "cell_type": "code",
   "execution_count": 3,
   "id": "09980b6f",
   "metadata": {},
   "outputs": [
    {
     "name": "stdout",
     "output_type": "stream",
     "text": [
      "Who throws a shoe. Honestly Justin.\n"
     ]
    }
   ],
   "source": [
    "random_task(\"Justin\")"
   ]
  },
  {
   "cell_type": "code",
   "execution_count": 4,
   "id": "8951e022",
   "metadata": {},
   "outputs": [
    {
     "data": {
      "text/plain": [
       "<AsyncResult: 2a513d60-2935-4a7d-baad-e5605685e1b8>"
      ]
     },
     "execution_count": 4,
     "metadata": {},
     "output_type": "execute_result"
    }
   ],
   "source": [
    "random_task.delay(\"Justin\")"
   ]
  },
  {
   "cell_type": "code",
   "execution_count": 5,
   "id": "9d9ba386",
   "metadata": {},
   "outputs": [],
   "source": [
    "for i in range(10):\n",
    "    # random_task.apply_async(args=(f\"Justin-{i}\", ))\n",
    "    random_task.delay(f\"Justin-{i}\")"
   ]
  },
  {
   "cell_type": "code",
   "execution_count": 6,
   "id": "fd66ff27",
   "metadata": {},
   "outputs": [],
   "source": [
    "for i in range(10):\n",
    "    random_task.apply_async(args=(f\"Justin-{i}\", ), countdown=10)"
   ]
  },
  {
   "cell_type": "code",
   "execution_count": null,
   "id": "4ab42b2e",
   "metadata": {},
   "outputs": [],
   "source": []
  }
 ],
 "metadata": {
  "kernelspec": {
   "display_name": "Python 3 (ipykernel)",
   "language": "python",
   "name": "python3"
  },
  "language_info": {
   "codemirror_mode": {
    "name": "ipython",
    "version": 3
   },
   "file_extension": ".py",
   "mimetype": "text/x-python",
   "name": "python",
   "nbconvert_exporter": "python",
   "pygments_lexer": "ipython3",
   "version": "3.9.7"
  }
 },
 "nbformat": 4,
 "nbformat_minor": 5
}
